{
 "cells": [
  {
   "cell_type": "code",
   "execution_count": 9,
   "metadata": {
    "id": "7qKzjYwwIfHF"
   },
   "outputs": [],
   "source": [
    "%matplotlib inline\n",
    "import matplotlib.pyplot as plt"
   ]
  },
  {
   "cell_type": "code",
   "execution_count": 2,
   "metadata": {
    "colab": {
     "base_uri": "https://localhost:8080/"
    },
    "id": "nw2vtabYQ_rA",
    "outputId": "35359df3-6737-4aa3-e529-4ce69289e9e0"
   },
   "outputs": [
    {
     "name": "stdout",
     "output_type": "stream",
     "text": [
      "Net(\n",
      "  (fc1): Linear(in_features=784, out_features=500, bias=False)\n",
      "  (fc2): Linear(in_features=500, out_features=300, bias=False)\n",
      "  (fc3): Linear(in_features=300, out_features=5, bias=False)\n",
      ")\n"
     ]
    }
   ],
   "source": [
    "import torch\n",
    "import torch.nn as nn\n",
    "import torch.nn.functional as F\n",
    "torch.manual_seed(0)\n",
    "\n",
    "\n",
    "class Net(nn.Module):\n",
    "\n",
    "    def __init__(self):\n",
    "        super(Net, self).__init__()\n",
    "        # an affine operation: y = Wx + b\n",
    "        self.fc1 = nn.Linear(28*28, 500, False)  # 28*28 from image dimension \n",
    "        self.fc2 = nn.Linear(500, 300,False)\n",
    "        self.fc3 = nn.Linear(300, 5,False)\n",
    "\n",
    "    def forward(self, x):\n",
    "        x = torch.flatten(x, 1) # flatten all dimensions except the batch dimension\n",
    "        x = F.relu(self.fc1(x))\n",
    "        x = F.relu(self.fc2(x))\n",
    "        x = self.fc3(x)\n",
    "        return x\n",
    "\n",
    "net = Net()\n",
    "if torch.cuda.is_available():\n",
    "  net = net.cuda()\n",
    "\n",
    "tmpNet = net\n",
    "print(net)"
   ]
  },
  {
   "cell_type": "code",
   "execution_count": 3,
   "metadata": {
    "id": "B_oj8JgSZs83"
   },
   "outputs": [],
   "source": [
    "from torchvision import datasets\n",
    "import numpy as np\n",
    "from torch.utils.data import TensorDataset, DataLoader\n",
    "np.random.seed(0)\n",
    "\n",
    "\n",
    "def data_loader(batch_size=2048, n_workers=2):\n",
    "\n",
    "    train_data_th = datasets.MNIST(root='./datasets', download=True, train=True)\n",
    "    #test_data_th = datasets.MNIST(root='./datasets', download=True, train=False)\n",
    "\n",
    "    label = [1, 2, 3 ,4, 6]\n",
    "    data_fea = np.array(train_data_th.data[:]).reshape([-1, 28 * 28]).astype(np.float32)\n",
    "    data_fea = (data_fea / 255)\n",
    "    data_gnd = np.array(train_data_th.targets)\n",
    "    ctr1_idx = np.where(data_gnd[:] == label[0])\n",
    "    ctr2_idx = np.where(data_gnd[:] == label[1])\n",
    "    ctr3_idx = np.where(data_gnd[:] == label[2])\n",
    "    ctr4_idx = np.where(data_gnd[:] == label[3])\n",
    "    ctr6_idx = np.where(data_gnd[:] == label[4])\n",
    "    ctr1_idx = np.array(ctr1_idx)\n",
    "    ctr1_idx = ctr1_idx[0,0:1500]\n",
    "    ctr2_idx = np.array(ctr2_idx)\n",
    "    ctr2_idx = ctr2_idx[0,0:1500]\n",
    "    ctr3_idx = np.array(ctr3_idx)\n",
    "    ctr3_idx = ctr3_idx[0,0:1500]\n",
    "    ctr4_idx = np.array(ctr4_idx)\n",
    "    ctr4_idx = ctr4_idx[0,0:1500]\n",
    "    ctr6_idx = np.array(ctr6_idx)\n",
    "    ctr6_idx = ctr6_idx[0,0:1500]\n",
    "    train_idx = np.concatenate((ctr1_idx[:500], ctr2_idx[:500], ctr3_idx[:500], ctr4_idx[:500], ctr6_idx[:500]),axis = None)\n",
    "    validation_idx = np.concatenate((ctr1_idx[500:1000], ctr2_idx[500:1000], ctr3_idx[500:1000], ctr4_idx[500:1000], ctr6_idx[500:1000]),axis = None)\n",
    "    test_idx = np.concatenate((ctr1_idx[1000:1500], ctr2_idx[1000:1500], ctr3_idx[1000:1500], ctr4_idx[1000:1500], ctr6_idx[1000:1500]),axis = None)\n",
    "\n",
    "    data_train = data_fea[train_idx]\n",
    "    target_train = data_gnd[train_idx]\n",
    "\n",
    "    data_validation = data_fea[validation_idx]\n",
    "    target_validation = data_gnd[validation_idx]\n",
    "\n",
    "    data_test = data_fea[test_idx]\n",
    "    target_test = data_gnd[test_idx]\n",
    "\n",
    "    ##not sure what this is doing but it was here in the og\n",
    "    dtrain_mean = data_train.mean(axis=0)\n",
    "    data_train -= dtrain_mean\n",
    "    data_validation -=dtrain_mean\n",
    "    data_test -= dtrain_mean\n",
    "    ##\n",
    "\n",
    "    #######\n",
    "    #https://discuss.pytorch.org/t/indexerror-target-2-is-out-of-bounds/69614/24 I AM SO HAPPY I FOUND THIS FORUM!\n",
    "    tensor_target_train = torch.from_numpy(target_train)\n",
    "    # print(tensor_target_train.size())\n",
    "    # print(min(tensor_target_train))\n",
    "    # print(max(tensor_target_train))\n",
    "    unique_targets_train = torch.unique(tensor_target_train)\n",
    "    # print('unique_targets_train: {}'.format(unique_targets_train))\n",
    "\n",
    "    new_tensor_target_train = torch.empty_like(tensor_target_train)\n",
    "    for idx, t in enumerate(unique_targets_train):\n",
    "        # print('replacing {} with {}'.format(t, idx))\n",
    "        new_tensor_target_train[tensor_target_train == t] = idx\n",
    "    # print(new_tensor_target_train.size())\n",
    "    # print(min(new_tensor_target_train))\n",
    "    # print(max(new_tensor_target_train))\n",
    "\n",
    "    tensor_target_validation = torch.from_numpy(target_validation)\n",
    "    unique_targets_validation = torch.unique(tensor_target_validation)\n",
    "    new_tensor_target_validation = torch.empty_like(tensor_target_validation)\n",
    "    for idx, t in enumerate(unique_targets_validation):\n",
    "      new_tensor_target_validation[tensor_target_validation == t] = idx\n",
    "\n",
    "    tensor_target_test = torch.from_numpy(target_test)\n",
    "    unique_targets_test = torch.unique(tensor_target_test)\n",
    "    new_tensor_target_test = torch.empty_like(tensor_target_test)\n",
    "    for idx, t in enumerate(unique_targets_test):\n",
    "      new_tensor_target_test[tensor_target_test == t] = idx\n",
    "\n",
    "\n",
    "    train_data = TensorDataset(torch.from_numpy(data_train), new_tensor_target_train)\n",
    "    validation_data = TensorDataset(torch.from_numpy(data_validation), new_tensor_target_validation)\n",
    "    test_data = TensorDataset(torch.from_numpy(data_test), new_tensor_target_test)\n",
    "\n",
    "    train_loader = DataLoader(train_data, num_workers=n_workers, batch_size=batch_size, shuffle=True)\n",
    "    validation_loader = DataLoader(validation_data, num_workers = n_workers, batch_size = batch_size, shuffle = True)\n",
    "    test_loader = DataLoader(test_data, num_workers=n_workers, batch_size=batch_size, shuffle=False)\n",
    "\n",
    "    return train_loader, validation_loader, test_loader"
   ]
  },
  {
   "cell_type": "code",
   "execution_count": 4,
   "metadata": {
    "id": "s6mJjdV6aLt4"
   },
   "outputs": [],
   "source": [
    "def calc_acc(loader, net):\n",
    "    correct_cnt = 0\n",
    "    total_cnt = 0\n",
    "    for batch_inputs, batch_labels in loader:\n",
    "        if torch.cuda.is_available():\n",
    "            batch_inputs = batch_inputs.cuda()\n",
    "            batch_labels = batch_labels.cuda()\n",
    "        total_cnt += len(batch_inputs)\n",
    "        out = net(batch_inputs[:])\n",
    "        _, pred_labels = torch.max(out.data, 1)\n",
    "        correct_cnt += (pred_labels == batch_labels).sum().item()\n",
    "\n",
    "    return correct_cnt / total_cnt\n"
   ]
  },
  {
   "cell_type": "code",
   "execution_count": 5,
   "metadata": {
    "id": "yywffSSQoLBl"
   },
   "outputs": [],
   "source": [
    "plotlr = []\n",
    "plotval = []\n",
    "plottrain = []\n",
    "plotepoch = []\n",
    "plotloss = []"
   ]
  },
  {
   "cell_type": "code",
   "execution_count": 6,
   "metadata": {
    "id": "yY9v3-6qb1Pd"
   },
   "outputs": [],
   "source": [
    "nnloss = torch.nn.CrossEntropyLoss()\n",
    "from torch import nn, optim\n",
    "\n",
    "def train_net(net, i):\n",
    "    # Your task is to choose best parameters of optimization (momentum, batch size, learning rate, l2 regularization).\n",
    "    train_loader, validation_loader, test_loader = data_loader(2048, 2)\n",
    "    params = list(filter(lambda p: p.requires_grad, net.parameters()))\n",
    "    print(f\"I value is {i}\")\n",
    "    optimizer = optim.SGD(params, lr=i)  # lr = learning rate, momentum = momentum, weight delay = l2 regulaization\n",
    "    scheduler = optim.lr_scheduler.StepLR(optimizer, step_size=1)\n",
    "    epochs = 10\n",
    "    for epoch in range(epochs):\n",
    "        avg_loss = []\n",
    "        for x, target in train_loader:\n",
    "            if torch.cuda.is_available():\n",
    "                x = x.cuda()[:]\n",
    "                target = target.cuda().to(dtype=torch.long)\n",
    "            optimizer.zero_grad()\n",
    "            out = net(x)\n",
    "            loss = nnloss(out, target)\n",
    "            avg_loss.append(loss.item())\n",
    "            loss.backward()\n",
    "            optimizer.step()\n",
    "        #scheduler.step()\n",
    "\n",
    "        #print(f\"\\tepoch #{epoch} is finished.\")\n",
    "        plotepoch.append(epoch)\n",
    "        #print(f\"\\t  avg. train loss: {np.mean(avg_loss):.6f}\")\n",
    "        plotloss.append(np.mean(avg_loss))\n",
    "    train_acc = calc_acc(train_loader, net)\n",
    "    #print(train_acc)\n",
    "    plottrain.append(train_acc)\n",
    "    validation_acc = calc_acc(validation_loader, net)\n",
    "    #print(validation_acc)\n",
    "    plotval.append(validation_acc)\n",
    "    plotlr.append(i)\n",
    "    #plt.semilogx(plotlr, plotval, color=\"blue\", label=\"Val_Score\", marker=\"o\")\n",
    "    #plt.semilogx(plotlr, plottrain, color=\"red\", label=\"Train_Score\", marker=\"o\")\n",
    "    plt.semilogx(plotval, color=\"blue\", label=\"Val_Score\", marker=\"o\")\n",
    "    plt.semilogx(plottrain, color=\"red\", label=\"Train_Score\", marker=\"o\")\n",
    "    plt.title(f'lrate = {i} ')\n",
    "    plt.show()"
   ]
  },
  {
   "cell_type": "code",
   "execution_count": 10,
   "metadata": {
    "colab": {
     "base_uri": "https://localhost:8080/"
    },
    "id": "b6h9aA-GnstZ",
    "outputId": "7507d788-e09a-40be-b899-199dd233675b"
   },
   "outputs": [
    {
     "name": "stdout",
     "output_type": "stream",
     "text": [
      "I value is 0.0\n"
     ]
    },
    {
     "data": {
      "image/png": "[encoded data removed]",
      "text/plain": [
       "<Figure size 432x288 with 1 Axes>"
      ]
     },
     "metadata": {
      "needs_background": "light"
     },
     "output_type": "display_data"
    },
    {
     "name": "stdout",
     "output_type": "stream",
     "text": [
      "I value is 0.1\n"
     ]
    },
    {
     "data": {
      "image/png": "[encoded data removed]",
      "text/plain": [
       "<Figure size 432x288 with 1 Axes>"
      ]
     },
     "metadata": {
      "needs_background": "light"
     },
     "output_type": "display_data"
    },
    {
     "name": "stdout",
     "output_type": "stream",
     "text": [
      "I value is 0.2\n"
     ]
    },
    {
     "data": {
      "image/png": "[encoded data removed]",
      "text/plain": [
       "<Figure size 432x288 with 1 Axes>"
      ]
     },
     "metadata": {
      "needs_background": "light"
     },
     "output_type": "display_data"
    },
    {
     "name": "stdout",
     "output_type": "stream",
     "text": [
      "I value is 0.30000000000000004\n"
     ]
    },
    {
     "data": {
      "image/png": "[encoded data removed]",
      "text/plain": [
       "<Figure size 432x288 with 1 Axes>"
      ]
     },
     "metadata": {
      "needs_background": "light"
     },
     "output_type": "display_data"
    },
    {
     "name": "stdout",
     "output_type": "stream",
     "text": [
      "I value is 0.4\n"
     ]
    },
    {
     "data": {
      "image/png": "[encoded data removed]",
      "text/plain": [
       "<Figure size 432x288 with 1 Axes>"
      ]
     },
     "metadata": {
      "needs_background": "light"
     },
     "output_type": "display_data"
    },
    {
     "name": "stdout",
     "output_type": "stream",
     "text": [
      "I value is 0.5\n"
     ]
    },
    {
     "data": {
      "image/png": "[encoded data removed]",
      "text/plain": [
       "<Figure size 432x288 with 1 Axes>"
      ]
     },
     "metadata": {
      "needs_background": "light"
     },
     "output_type": "display_data"
    },
    {
     "name": "stdout",
     "output_type": "stream",
     "text": [
      "I value is 0.6000000000000001\n"
     ]
    },
    {
     "data": {
      "image/png": "[encoded data removed]",
      "text/plain": [
       "<Figure size 432x288 with 1 Axes>"
      ]
     },
     "metadata": {
      "needs_background": "light"
     },
     "output_type": "display_data"
    },
    {
     "name": "stdout",
     "output_type": "stream",
     "text": [
      "I value is 0.7000000000000001\n"
     ]
    },
    {
     "data": {
      "image/png": "[encoded data removed]",
      "text/plain": [
       "<Figure size 432x288 with 1 Axes>"
      ]
     },
     "metadata": {
      "needs_background": "light"
     },
     "output_type": "display_data"
    },
    {
     "name": "stdout",
     "output_type": "stream",
     "text": [
      "I value is 0.8\n"
     ]
    },
    {
     "data": {
      "image/png": "[encoded data removed]",
      "text/plain": [
       "<Figure size 432x288 with 1 Axes>"
      ]
     },
     "metadata": {
      "needs_background": "light"
     },
     "output_type": "display_data"
    },
    {
     "name": "stdout",
     "output_type": "stream",
     "text": [
      "I value is 0.9\n"
     ]
    },
    {
     "data": {
      "image/png": "[encoded data removed]",
      "text/plain": [
       "<Figure size 432x288 with 1 Axes>"
      ]
     },
     "metadata": {
      "needs_background": "light"
     },
     "output_type": "display_data"
    },
    {
     "name": "stdout",
     "output_type": "stream",
     "text": [
      "I value is 1.0\n"
     ]
    },
    {
     "data": {
      "image/png": "[encoded data removed]",
      "text/plain": [
       "<Figure size 432x288 with 1 Axes>"
      ]
     },
     "metadata": {
      "needs_background": "light"
     },
     "output_type": "display_data"
    }
   ],
   "source": [
    "lrate = [10**(-7), 10**(-6), 10**(-5), 10**(-4), 10**(-3), 10**(-2), 0.1, 1]\n",
    "lrate2 = np.linspace(0,.3,31)\n",
    "lrate3 = np.linspace(0,1,11)\n",
    "net = tmpNet\n",
    "for i in range(len(lrate3)) :\n",
    "    train_net(net,lrate3[i])\n",
    "    net = tmpNet\n",
    "plt.show()"
   ]
  },
  {
   "cell_type": "code",
   "execution_count": 8,
   "metadata": {
    "id": "Nea1fzQ57g0e"
   },
   "outputs": [
    {
     "name": "stdout",
     "output_type": "stream",
     "text": [
      "0.9524\n"
     ]
    }
   ],
   "source": [
    "train_loader, validation_loader, test_loader = data_loader()\n",
    "print(calc_acc(test_loader,net))"
   ]
  }
 ],
 "metadata": {
  "accelerator": "TPU",
  "colab": {
   "collapsed_sections": [],
   "name": "GroupF_Project2_Part1_Neural_Network.ipynb",
   "provenance": []
  },
  "kernelspec": {
   "display_name": "Python 3",
   "language": "python",
   "name": "python3"
  },
  "language_info": {
   "codemirror_mode": {
    "name": "ipython",
    "version": 3
   },
   "file_extension": ".py",
   "mimetype": "text/x-python",
   "name": "python",
   "nbconvert_exporter": "python",
   "pygments_lexer": "ipython3",
   "version": "3.6.9"
  }
 },
 "nbformat": 4,
 "nbformat_minor": 1
}
